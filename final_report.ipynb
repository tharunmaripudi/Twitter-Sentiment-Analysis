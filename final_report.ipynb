{
  "cells": [
    {
      "cell_type": "code",
      "execution_count": 1,
      "metadata": {
        "id": "-nKqibix_pS6"
      },
      "outputs": [],
      "source": [
        "import numpy as np\n",
        "import pandas as pd\n",
        "import tensorflow as tf\n",
        "from tensorflow.keras.models import Model\n",
        "from tensorflow.keras.layers import Input, Dense, Embedding, LSTM, Dropout, concatenate\n",
        "from tensorflow.keras.optimizers import Adam\n",
        "from tensorflow.keras.preprocessing.text import Tokenizer\n",
        "from tensorflow.keras.preprocessing.sequence import pad_sequences\n",
        "from sklearn.linear_model import LogisticRegression\n",
        "from sklearn.metrics import accuracy_score\n",
        "import matplotlib.pyplot as plt\n"
      ]
    },
    {
      "cell_type": "code",
      "execution_count": 2,
      "metadata": {
        "id": "oxRQPsoJ_2ex"
      },
      "outputs": [],
      "source": [
        "df = pd.read_csv('/content/drive/MyDrive/Twitter_sentiment.csv', encoding='ISO-8859-1', header=None, names=['target', 'id', 'date', 'flag', 'user', 'text'],)\n",
        "df = df.sample(n=100000, random_state=42)\n",
        "df['target'] = df['target'].replace({0: 0, 4: 1})\n",
        "\n",
        "\n"
      ]
    },
    {
      "cell_type": "code",
      "execution_count": 3,
      "metadata": {
        "id": "0uV938s9BOON"
      },
      "outputs": [],
      "source": [
        "import re\n",
        "import string\n",
        "\n",
        "def preprocess_text(text):\n",
        "    \"\"\"\n",
        "    Preprocesses the input text by removing URLs, special characters, and converting to lowercase.\n",
        "    \"\"\"\n",
        "    # Convert to string if bytes-like object\n",
        "    if isinstance(text, bytes):\n",
        "        text = text.decode('utf-8', 'ignore')\n",
        "    \n",
        "    # Remove URLs\n",
        "    text = re.sub(r'http\\S+', '', text)\n",
        "    \n",
        "    # Remove punctuation and special characters\n",
        "    text = text.translate(str.maketrans('', '', string.punctuation))\n",
        "    text = re.sub(r'[^\\x00-\\x7F]+', '', text)\n",
        "    \n",
        "    # Convert to lowercase\n",
        "    text = text.lower()\n",
        "    \n",
        "    return text"
      ]
    },
    {
      "cell_type": "code",
      "execution_count": 4,
      "metadata": {
        "colab": {
          "base_uri": "https://localhost:8080/",
          "height": 206
        },
        "id": "0KPpl2SpBUg0",
        "outputId": "a2eaeaf3-aa81-421b-916b-1421f293230a"
      },
      "outputs": [
        {
          "output_type": "execute_result",
          "data": {
            "text/plain": [
              "        target          id                          date      flag  \\\n",
              "541200       0  2200003196  Tue Jun 16 18:18:12 PDT 2009  NO_QUERY   \n",
              "750          0  1467998485  Mon Apr 06 23:11:14 PDT 2009  NO_QUERY   \n",
              "766711       0  2300048954  Tue Jun 23 13:40:11 PDT 2009  NO_QUERY   \n",
              "285055       0  1993474027  Mon Jun 01 10:26:07 PDT 2009  NO_QUERY   \n",
              "705995       0  2256550904  Sat Jun 20 12:56:51 PDT 2009  NO_QUERY   \n",
              "\n",
              "                   user                                               text  \n",
              "541200  LaLaLindsey0609                 chrishasboobs ahhh i hope your ok   \n",
              "750         sexygrneyes  misstoriblack cool  i have no tweet apps  for ...  \n",
              "766711       sammydearr  tiannachaos i know  just family drama its lame...  \n",
              "285055      Lamb_Leanne  school email wont open  and i have geography s...  \n",
              "705995      yogicerdito                             upper airways problem   "
            ],
            "text/html": [
              "\n",
              "  <div id=\"df-00045aa7-2f87-48ec-a423-4cbddd6c1470\">\n",
              "    <div class=\"colab-df-container\">\n",
              "      <div>\n",
              "<style scoped>\n",
              "    .dataframe tbody tr th:only-of-type {\n",
              "        vertical-align: middle;\n",
              "    }\n",
              "\n",
              "    .dataframe tbody tr th {\n",
              "        vertical-align: top;\n",
              "    }\n",
              "\n",
              "    .dataframe thead th {\n",
              "        text-align: right;\n",
              "    }\n",
              "</style>\n",
              "<table border=\"1\" class=\"dataframe\">\n",
              "  <thead>\n",
              "    <tr style=\"text-align: right;\">\n",
              "      <th></th>\n",
              "      <th>target</th>\n",
              "      <th>id</th>\n",
              "      <th>date</th>\n",
              "      <th>flag</th>\n",
              "      <th>user</th>\n",
              "      <th>text</th>\n",
              "    </tr>\n",
              "  </thead>\n",
              "  <tbody>\n",
              "    <tr>\n",
              "      <th>541200</th>\n",
              "      <td>0</td>\n",
              "      <td>2200003196</td>\n",
              "      <td>Tue Jun 16 18:18:12 PDT 2009</td>\n",
              "      <td>NO_QUERY</td>\n",
              "      <td>LaLaLindsey0609</td>\n",
              "      <td>chrishasboobs ahhh i hope your ok</td>\n",
              "    </tr>\n",
              "    <tr>\n",
              "      <th>750</th>\n",
              "      <td>0</td>\n",
              "      <td>1467998485</td>\n",
              "      <td>Mon Apr 06 23:11:14 PDT 2009</td>\n",
              "      <td>NO_QUERY</td>\n",
              "      <td>sexygrneyes</td>\n",
              "      <td>misstoriblack cool  i have no tweet apps  for ...</td>\n",
              "    </tr>\n",
              "    <tr>\n",
              "      <th>766711</th>\n",
              "      <td>0</td>\n",
              "      <td>2300048954</td>\n",
              "      <td>Tue Jun 23 13:40:11 PDT 2009</td>\n",
              "      <td>NO_QUERY</td>\n",
              "      <td>sammydearr</td>\n",
              "      <td>tiannachaos i know  just family drama its lame...</td>\n",
              "    </tr>\n",
              "    <tr>\n",
              "      <th>285055</th>\n",
              "      <td>0</td>\n",
              "      <td>1993474027</td>\n",
              "      <td>Mon Jun 01 10:26:07 PDT 2009</td>\n",
              "      <td>NO_QUERY</td>\n",
              "      <td>Lamb_Leanne</td>\n",
              "      <td>school email wont open  and i have geography s...</td>\n",
              "    </tr>\n",
              "    <tr>\n",
              "      <th>705995</th>\n",
              "      <td>0</td>\n",
              "      <td>2256550904</td>\n",
              "      <td>Sat Jun 20 12:56:51 PDT 2009</td>\n",
              "      <td>NO_QUERY</td>\n",
              "      <td>yogicerdito</td>\n",
              "      <td>upper airways problem</td>\n",
              "    </tr>\n",
              "  </tbody>\n",
              "</table>\n",
              "</div>\n",
              "      <button class=\"colab-df-convert\" onclick=\"convertToInteractive('df-00045aa7-2f87-48ec-a423-4cbddd6c1470')\"\n",
              "              title=\"Convert this dataframe to an interactive table.\"\n",
              "              style=\"display:none;\">\n",
              "        \n",
              "  <svg xmlns=\"http://www.w3.org/2000/svg\" height=\"24px\"viewBox=\"0 0 24 24\"\n",
              "       width=\"24px\">\n",
              "    <path d=\"M0 0h24v24H0V0z\" fill=\"none\"/>\n",
              "    <path d=\"M18.56 5.44l.94 2.06.94-2.06 2.06-.94-2.06-.94-.94-2.06-.94 2.06-2.06.94zm-11 1L8.5 8.5l.94-2.06 2.06-.94-2.06-.94L8.5 2.5l-.94 2.06-2.06.94zm10 10l.94 2.06.94-2.06 2.06-.94-2.06-.94-.94-2.06-.94 2.06-2.06.94z\"/><path d=\"M17.41 7.96l-1.37-1.37c-.4-.4-.92-.59-1.43-.59-.52 0-1.04.2-1.43.59L10.3 9.45l-7.72 7.72c-.78.78-.78 2.05 0 2.83L4 21.41c.39.39.9.59 1.41.59.51 0 1.02-.2 1.41-.59l7.78-7.78 2.81-2.81c.8-.78.8-2.07 0-2.86zM5.41 20L4 18.59l7.72-7.72 1.47 1.35L5.41 20z\"/>\n",
              "  </svg>\n",
              "      </button>\n",
              "      \n",
              "  <style>\n",
              "    .colab-df-container {\n",
              "      display:flex;\n",
              "      flex-wrap:wrap;\n",
              "      gap: 12px;\n",
              "    }\n",
              "\n",
              "    .colab-df-convert {\n",
              "      background-color: #E8F0FE;\n",
              "      border: none;\n",
              "      border-radius: 50%;\n",
              "      cursor: pointer;\n",
              "      display: none;\n",
              "      fill: #1967D2;\n",
              "      height: 32px;\n",
              "      padding: 0 0 0 0;\n",
              "      width: 32px;\n",
              "    }\n",
              "\n",
              "    .colab-df-convert:hover {\n",
              "      background-color: #E2EBFA;\n",
              "      box-shadow: 0px 1px 2px rgba(60, 64, 67, 0.3), 0px 1px 3px 1px rgba(60, 64, 67, 0.15);\n",
              "      fill: #174EA6;\n",
              "    }\n",
              "\n",
              "    [theme=dark] .colab-df-convert {\n",
              "      background-color: #3B4455;\n",
              "      fill: #D2E3FC;\n",
              "    }\n",
              "\n",
              "    [theme=dark] .colab-df-convert:hover {\n",
              "      background-color: #434B5C;\n",
              "      box-shadow: 0px 1px 3px 1px rgba(0, 0, 0, 0.15);\n",
              "      filter: drop-shadow(0px 1px 2px rgba(0, 0, 0, 0.3));\n",
              "      fill: #FFFFFF;\n",
              "    }\n",
              "  </style>\n",
              "\n",
              "      <script>\n",
              "        const buttonEl =\n",
              "          document.querySelector('#df-00045aa7-2f87-48ec-a423-4cbddd6c1470 button.colab-df-convert');\n",
              "        buttonEl.style.display =\n",
              "          google.colab.kernel.accessAllowed ? 'block' : 'none';\n",
              "\n",
              "        async function convertToInteractive(key) {\n",
              "          const element = document.querySelector('#df-00045aa7-2f87-48ec-a423-4cbddd6c1470');\n",
              "          const dataTable =\n",
              "            await google.colab.kernel.invokeFunction('convertToInteractive',\n",
              "                                                     [key], {});\n",
              "          if (!dataTable) return;\n",
              "\n",
              "          const docLinkHtml = 'Like what you see? Visit the ' +\n",
              "            '<a target=\"_blank\" href=https://colab.research.google.com/notebooks/data_table.ipynb>data table notebook</a>'\n",
              "            + ' to learn more about interactive tables.';\n",
              "          element.innerHTML = '';\n",
              "          dataTable['output_type'] = 'display_data';\n",
              "          await google.colab.output.renderOutput(dataTable, element);\n",
              "          const docLink = document.createElement('div');\n",
              "          docLink.innerHTML = docLinkHtml;\n",
              "          element.appendChild(docLink);\n",
              "        }\n",
              "      </script>\n",
              "    </div>\n",
              "  </div>\n",
              "  "
            ]
          },
          "metadata": {},
          "execution_count": 4
        }
      ],
      "source": [
        "df['text'] = df['text'].apply(preprocess_text)\n",
        "df.head()\n"
      ]
    },
    {
      "cell_type": "code",
      "execution_count": 5,
      "metadata": {
        "id": "iDPkZ0LZBl8G"
      },
      "outputs": [],
      "source": [
        "train_size = int(len(df) * 0.8)\n",
        "train_texts = df['text'][:train_size]\n",
        "train_labels = df['target'][:train_size]\n",
        "test_texts = df['text'][train_size:]\n",
        "test_labels = df['target'][train_size:]"
      ]
    },
    {
      "cell_type": "code",
      "execution_count": 6,
      "metadata": {
        "id": "f42l3A37CKFI"
      },
      "outputs": [],
      "source": [
        "from textblob import TextBlob\n",
        "from textblob.tokenizers import WordTokenizer\n",
        "from tensorflow.keras.preprocessing.sequence import pad_sequences"
      ]
    },
    {
      "cell_type": "code",
      "execution_count": 7,
      "metadata": {
        "colab": {
          "base_uri": "https://localhost:8080/"
        },
        "id": "QbjTO-GWFN3d",
        "outputId": "f8fddc19-fa5b-4645-dc1b-de461acc677b"
      },
      "outputs": [
        {
          "output_type": "stream",
          "name": "stderr",
          "text": [
            "[nltk_data] Downloading package punkt to /root/nltk_data...\n",
            "[nltk_data]   Unzipping tokenizers/punkt.zip.\n"
          ]
        }
      ],
      "source": [
        "import nltk\n",
        "nltk.download('punkt')\n",
        "from textblob import TextBlob\n",
        "from tensorflow.keras.preprocessing.sequence import pad_sequences\n",
        "\n",
        "# Tokenize train texts\n",
        "train_sequences = []\n",
        "for text in train_texts:\n",
        "    blob = TextBlob(text)\n",
        "    tokens = blob.words\n",
        "    train_sequences.append(tokens)\n",
        "\n",
        "# Tokenize test texts\n",
        "test_sequences = []\n",
        "for text in test_texts:\n",
        "    blob = TextBlob(text)\n",
        "    tokens = blob.words\n",
        "    test_sequences.append(tokens)\n",
        "\n",
        "# Convert tokens to sequences\n",
        "tokenizer = Tokenizer(num_words=5000, lower=True)\n",
        "tokenizer.fit_on_texts(train_sequences)\n",
        "\n",
        "train_data = tokenizer.texts_to_sequences(train_sequences)\n",
        "test_data = tokenizer.texts_to_sequences(test_sequences)\n",
        "\n",
        "# Pad sequences\n",
        "max_len = 100\n",
        "train_data = pad_sequences(train_data, maxlen=max_len)\n",
        "test_data = pad_sequences(test_data, maxlen=max_len)\n"
      ]
    },
    {
      "cell_type": "code",
      "execution_count": 8,
      "metadata": {
        "id": "Z2dJoZIIAFDp"
      },
      "outputs": [],
      "source": [
        "input_layer = Input(shape=(100,))\n",
        "embedding_layer = Embedding(5000, 128, input_length=100)(input_layer)\n",
        "lstm_layer = LSTM(64, dropout=0.2, recurrent_dropout=0.2)(embedding_layer)\n",
        "dropout_layer = Dropout(0.5)(lstm_layer)\n",
        "lr_layer = Dense(1, activation='sigmoid')(dropout_layer)\n",
        "lr_model = Model(inputs=input_layer, outputs=lr_layer)\n",
        "\n",
        "lstm_layer_2 = LSTM(64, dropout=0.2, recurrent_dropout=0.2)(embedding_layer)\n",
        "dropout_layer_2 = Dropout(0.5)(lstm_layer_2)\n",
        "concat_layer = concatenate([dropout_layer, dropout_layer_2])\n",
        "lr_layer_2 = Dense(1, activation='sigmoid')(concat_layer)\n",
        "\n",
        "lstm_layer_3 = LSTM(64, dropout=0.2, recurrent_dropout=0.2)(embedding_layer)\n",
        "dropout_layer_3 = Dropout(0.5)(lstm_layer_3)\n",
        "concat_layer = concatenate([dropout_layer, dropout_layer_3])\n",
        "lr_layer_3 = Dense(1, activation='sigmoid')(concat_layer)\n",
        "lr_lstm_model = Model(inputs=input_layer, outputs=lr_layer_3)"
      ]
    },
    {
      "cell_type": "code",
      "execution_count": 9,
      "metadata": {
        "colab": {
          "base_uri": "https://localhost:8080/"
        },
        "id": "5MViRaopArcw",
        "outputId": "abfc6f4c-5fdb-4c07-9d39-57be9759d83f"
      },
      "outputs": [
        {
          "output_type": "stream",
          "name": "stderr",
          "text": [
            "WARNING:absl:`lr` is deprecated in Keras optimizer, please use `learning_rate` or use the legacy optimizer, e.g.,tf.keras.optimizers.legacy.Adam.\n"
          ]
        },
        {
          "output_type": "stream",
          "name": "stdout",
          "text": [
            "Epoch 1/10\n",
            "2250/2250 [==============================] - 218s 96ms/step - loss: 0.4995 - accuracy: 0.7581 - val_loss: 0.4584 - val_accuracy: 0.7816\n",
            "Epoch 2/10\n",
            "2250/2250 [==============================] - 215s 95ms/step - loss: 0.4322 - accuracy: 0.7990 - val_loss: 0.4609 - val_accuracy: 0.7816\n",
            "Epoch 3/10\n",
            "2250/2250 [==============================] - 216s 96ms/step - loss: 0.4008 - accuracy: 0.8155 - val_loss: 0.4613 - val_accuracy: 0.7854\n",
            "Epoch 4/10\n",
            "2250/2250 [==============================] - 215s 96ms/step - loss: 0.3743 - accuracy: 0.8284 - val_loss: 0.4966 - val_accuracy: 0.7868\n",
            "Epoch 5/10\n",
            "2250/2250 [==============================] - 213s 95ms/step - loss: 0.3519 - accuracy: 0.8399 - val_loss: 0.4996 - val_accuracy: 0.7779\n",
            "Epoch 6/10\n",
            "2250/2250 [==============================] - 217s 96ms/step - loss: 0.3272 - accuracy: 0.8511 - val_loss: 0.5504 - val_accuracy: 0.7799\n",
            "Epoch 7/10\n",
            "2250/2250 [==============================] - 215s 96ms/step - loss: 0.3071 - accuracy: 0.8619 - val_loss: 0.5764 - val_accuracy: 0.7765\n",
            "Epoch 8/10\n",
            "2250/2250 [==============================] - 217s 96ms/step - loss: 0.2858 - accuracy: 0.8724 - val_loss: 0.5972 - val_accuracy: 0.7681\n",
            "Epoch 9/10\n",
            "2250/2250 [==============================] - 217s 96ms/step - loss: 0.2700 - accuracy: 0.8792 - val_loss: 0.6510 - val_accuracy: 0.7713\n",
            "Epoch 10/10\n",
            "2250/2250 [==============================] - 215s 96ms/step - loss: 0.2492 - accuracy: 0.8885 - val_loss: 0.7039 - val_accuracy: 0.7661\n"
          ]
        },
        {
          "output_type": "stream",
          "name": "stderr",
          "text": [
            "WARNING:absl:`lr` is deprecated in Keras optimizer, please use `learning_rate` or use the legacy optimizer, e.g.,tf.keras.optimizers.legacy.Adam.\n"
          ]
        },
        {
          "output_type": "stream",
          "name": "stdout",
          "text": [
            "Epoch 1/10\n",
            "2250/2250 [==============================] - 411s 182ms/step - loss: 0.2706 - accuracy: 0.8804 - val_loss: 0.6462 - val_accuracy: 0.7651\n",
            "Epoch 2/10\n",
            "2250/2250 [==============================] - 409s 182ms/step - loss: 0.2301 - accuracy: 0.9007 - val_loss: 0.7116 - val_accuracy: 0.7638\n",
            "Epoch 3/10\n",
            "2250/2250 [==============================] - 412s 183ms/step - loss: 0.2169 - accuracy: 0.9067 - val_loss: 0.7679 - val_accuracy: 0.7644\n",
            "Epoch 4/10\n",
            "2250/2250 [==============================] - 408s 181ms/step - loss: 0.2043 - accuracy: 0.9135 - val_loss: 0.8256 - val_accuracy: 0.7644\n",
            "Epoch 5/10\n",
            "2250/2250 [==============================] - 409s 182ms/step - loss: 0.1941 - accuracy: 0.9183 - val_loss: 0.8414 - val_accuracy: 0.7602\n",
            "Epoch 6/10\n",
            "2250/2250 [==============================] - 409s 182ms/step - loss: 0.1830 - accuracy: 0.9227 - val_loss: 0.8871 - val_accuracy: 0.7566\n",
            "Epoch 7/10\n",
            "2250/2250 [==============================] - 409s 182ms/step - loss: 0.1740 - accuracy: 0.9268 - val_loss: 0.9551 - val_accuracy: 0.7584\n",
            "Epoch 8/10\n",
            "2250/2250 [==============================] - 406s 181ms/step - loss: 0.1647 - accuracy: 0.9307 - val_loss: 1.0000 - val_accuracy: 0.7571\n",
            "Epoch 9/10\n",
            "2250/2250 [==============================] - 406s 180ms/step - loss: 0.1609 - accuracy: 0.9337 - val_loss: 0.9687 - val_accuracy: 0.7577\n",
            "Epoch 10/10\n",
            "2250/2250 [==============================] - 406s 180ms/step - loss: 0.1513 - accuracy: 0.9372 - val_loss: 1.0484 - val_accuracy: 0.7527\n"
          ]
        },
        {
          "output_type": "execute_result",
          "data": {
            "text/plain": [
              "<keras.callbacks.History at 0x7f4ce9bbd960>"
            ]
          },
          "metadata": {},
          "execution_count": 9
        }
      ],
      "source": [
        "lr_model.compile(loss='binary_crossentropy', optimizer=Adam(lr=0.0001), metrics=['accuracy'])\n",
        "lr_model.fit(train_data, train_labels, validation_split=0.1, epochs=10, batch_size=32)\n",
        "\n",
        "lr_lstm_model.compile(loss='binary_crossentropy', optimizer=Adam(lr=0.0001), metrics=['accuracy'])\n",
        "lr_lstm_model.fit(train_data, train_labels, validation_split=0.1, epochs=10, batch_size=32)\n"
      ]
    },
    {
      "cell_type": "code",
      "execution_count": 10,
      "metadata": {
        "colab": {
          "base_uri": "https://localhost:8080/"
        },
        "id": "VmNOvrezCV7G",
        "outputId": "f084b870-2635-40c2-8260-a39b6b3b7c31"
      },
      "outputs": [
        {
          "output_type": "stream",
          "name": "stdout",
          "text": [
            "1/1 [==============================] - 0s 214ms/step\n",
            "1/1 [==============================] - 0s 330ms/step\n",
            "lr_lstm_model predictions: [0.]\n",
            "the given input string is  negative\n"
          ]
        }
      ],
      "source": [
        "# Define the maximum length of the input sequence\n",
        "max_len = 100\n",
        "# Preprocess the input string\n",
        "input_text = \"he is worst player\"\n",
        "preprocessed_text = preprocess_text(input_text)\n",
        "\n",
        "# Tokenize and pad the input sequence\n",
        "input_sequence = tokenizer.texts_to_sequences([preprocessed_text])\n",
        "input_sequence = pad_sequences(input_sequence, maxlen=max_len)\n",
        "\n",
        "# Make predictions using the lr_model\n",
        "lr_predictions = lr_model.predict(input_sequence)\n",
        "lr_predictions = np.round(lr_predictions).flatten()\n",
        "\n",
        "# Make predictions using the lr_lstm_model\n",
        "lr_lstm_predictions = lr_lstm_model.predict(input_sequence)\n",
        "lr_lstm_predictions = np.round(lr_lstm_predictions).flatten()\n",
        "\n",
        "# Print the predicted sentiment labels\n",
        "threshold = 0.5\n",
        "if lr_lstm_predictions >= threshold:\n",
        "    sentiment=\"positive\"\n",
        "else:\n",
        "    sentiment=\"negative\"\n",
        "#print(\"lr_model predictions:\", lr_predictions)\n",
        "print(\"lr_lstm_model predictions:\", lr_lstm_predictions)\n",
        "print(\"the given input string is \",sentiment)"
      ]
    },
    {
      "cell_type": "code",
      "execution_count": 11,
      "metadata": {
        "colab": {
          "base_uri": "https://localhost:8080/"
        },
        "id": "qIbd2v99rhzv",
        "outputId": "bf203ead-2c1a-464d-975a-64e7bf305253"
      },
      "outputs": [
        {
          "output_type": "stream",
          "name": "stdout",
          "text": [
            "625/625 [==============================] - 10s 15ms/step\n",
            "625/625 [==============================] - 16s 26ms/step\n"
          ]
        }
      ],
      "source": [
        "# Assuming you have the trained models lr_model and lr_lstm_model\n",
        "\n",
        "# Predict labels using lr_model\n",
        "lr_predictions = lr_model.predict(test_data)\n",
        "lr_predictions = (lr_predictions >= 0.5).astype(int)  # Apply threshold for binary classification\n",
        "\n",
        "# Predict labels using lr_lstm_model\n",
        "lr_lstm_predictions = lr_lstm_model.predict(test_data)\n",
        "lr_lstm_predictions = (lr_lstm_predictions >= 0.5).astype(int)  # Apply threshold for binary classification\n"
      ]
    },
    {
      "cell_type": "code",
      "execution_count": 15,
      "metadata": {
        "colab": {
          "base_uri": "https://localhost:8080/"
        },
        "id": "FcLV58LGgA8b",
        "outputId": "edb27b6c-562c-44f2-94f9-5a2f4c704c22"
      },
      "outputs": [
        {
          "output_type": "stream",
          "name": "stdout",
          "text": [
            "Precision (lr_model): 0.7570391005870063\n",
            "Precision (lr_lstm_model): 0.7505179047055341\n",
            "Recall (lr_model): 0.7566626889419252\n",
            "Recall (lr_lstm_model): 0.7565632458233891\n",
            "F1 Score (lr_model): 0.7568508479633959\n",
            "F1 Score (lr_lstm_model): 0.7535284504531273\n"
          ]
        }
      ],
      "source": [
        "from sklearn.metrics import precision_score\n",
        "from sklearn.metrics import recall_score\n",
        "from sklearn.metrics import f1_score\n",
        "# Calculate precision\n",
        "precision_lr = precision_score(test_labels, lr_predictions)\n",
        "precision_lr_lstm = precision_score(test_labels, lr_lstm_predictions)\n",
        "\n",
        "# Calculate recall\n",
        "recall_lr = recall_score(test_labels, lr_predictions)\n",
        "recall_lr_lstm = recall_score(test_labels, lr_lstm_predictions)\n",
        "\n",
        "# Calculate F1 score\n",
        "f1_lr = f1_score(test_labels, lr_predictions)\n",
        "f1_lr_lstm = f1_score(test_labels, lr_lstm_predictions)\n",
        "\n",
        "print(\"Precision (lr_model):\", precision_lr)\n",
        "print(\"Precision (lr_lstm_model):\", precision_lr_lstm)\n",
        "print(\"Recall (lr_model):\", recall_lr)\n",
        "print(\"Recall (lr_lstm_model):\", recall_lr_lstm)\n",
        "print(\"F1 Score (lr_model):\", f1_lr)\n",
        "print(\"F1 Score (lr_lstm_model):\", f1_lr_lstm)"
      ]
    },
    {
      "cell_type": "code",
      "source": [
        "import matplotlib.pyplot as plt\n",
        "\n",
        "# Train lr_model and store accuracy history\n",
        "lr_history = lr_model.fit(train_data, train_labels, validation_split=0.1, epochs=5, batch_size=32)\n",
        "\n",
        "# Train lr_lstm_model and store accuracy history\n",
        "lr_lstm_history = lr_lstm_model.fit(train_data, train_labels, validation_split=0.1, epochs=5, batch_size=32)\n",
        "\n",
        "# Plot accuracy over epochs for lr_model\n",
        "plt.plot(lr_history.history['accuracy'])\n",
        "plt.plot(lr_history.history['val_accuracy'])\n",
        "plt.title('lr_model Accuracy')\n",
        "plt.xlabel('Epochs')\n",
        "plt.ylabel('Accuracy')\n",
        "plt.legend(['Train', 'Validation'])\n",
        "plt.show()\n",
        "\n",
        "# Plot accuracy over epochs for lr_lstm_model\n",
        "plt.plot(lr_lstm_history.history['accuracy'])\n",
        "plt.plot(lr_lstm_history.history['val_accuracy'])\n",
        "plt.title('lr_lstm_model Accuracy')\n",
        "plt.xlabel('Epochs')\n",
        "plt.ylabel('Accuracy')\n",
        "plt.legend(['Train', 'Validation'])\n",
        "plt.show()\n"
      ],
      "metadata": {
        "colab": {
          "base_uri": "https://localhost:8080/",
          "height": 1000
        },
        "id": "XEmbKXYTQO0h",
        "outputId": "98f3500b-6c89-403e-f3b5-4497198aad03"
      },
      "execution_count": 17,
      "outputs": [
        {
          "output_type": "stream",
          "name": "stdout",
          "text": [
            "Epoch 1/5\n",
            "2250/2250 [==============================] - 217s 96ms/step - loss: 0.1623 - accuracy: 0.9323 - val_loss: 1.0232 - val_accuracy: 0.7529\n",
            "Epoch 2/5\n",
            "2250/2250 [==============================] - 218s 97ms/step - loss: 0.1537 - accuracy: 0.9361 - val_loss: 1.0438 - val_accuracy: 0.7554\n",
            "Epoch 3/5\n",
            "2250/2250 [==============================] - 217s 97ms/step - loss: 0.1487 - accuracy: 0.9372 - val_loss: 1.0610 - val_accuracy: 0.7550\n",
            "Epoch 4/5\n",
            "2250/2250 [==============================] - 218s 97ms/step - loss: 0.1453 - accuracy: 0.9396 - val_loss: 1.0445 - val_accuracy: 0.7558\n",
            "Epoch 5/5\n",
            "2250/2250 [==============================] - 219s 97ms/step - loss: 0.1400 - accuracy: 0.9433 - val_loss: 1.0914 - val_accuracy: 0.7523\n",
            "Epoch 1/5\n",
            "2250/2250 [==============================] - 411s 183ms/step - loss: 0.1288 - accuracy: 0.9469 - val_loss: 1.1417 - val_accuracy: 0.7517\n",
            "Epoch 2/5\n",
            "2250/2250 [==============================] - 412s 183ms/step - loss: 0.1233 - accuracy: 0.9499 - val_loss: 1.1715 - val_accuracy: 0.7459\n",
            "Epoch 3/5\n",
            "2250/2250 [==============================] - 410s 182ms/step - loss: 0.1184 - accuracy: 0.9515 - val_loss: 1.2157 - val_accuracy: 0.7481\n",
            "Epoch 4/5\n",
            "2250/2250 [==============================] - 403s 179ms/step - loss: 0.1152 - accuracy: 0.9530 - val_loss: 1.2332 - val_accuracy: 0.7524\n",
            "Epoch 5/5\n",
            "2250/2250 [==============================] - 403s 179ms/step - loss: 0.1104 - accuracy: 0.9549 - val_loss: 1.2426 - val_accuracy: 0.7533\n"
          ]
        },
        {
          "output_type": "display_data",
          "data": {
            "text/plain": [
              "<Figure size 640x480 with 1 Axes>"
            ],
            "image/png": "[encoded data removed]"
          },
          "metadata": {}
        },
        {
          "output_type": "display_data",
          "data": {
            "text/plain": [
              "<Figure size 640x480 with 1 Axes>"
            ],
            "image/png": "[encoded data removed]"
          },
          "metadata": {}
        }
      ]
    },
    {
      "cell_type": "code",
      "source": [
        "from sklearn.metrics import classification_report\n",
        "\n",
        "# Generate classification report for lr_model\n",
        "classification_report_lr = classification_report(test_labels, lr_predictions)\n",
        "print(\"Classification Report (lr_model):\")\n",
        "print(classification_report_lr)\n",
        "\n",
        "# Generate classification report for lr_lstm_model\n",
        "classification_report_lr_lstm = classification_report(test_labels, lr_lstm_predictions)\n",
        "print(\"Classification Report (lr_lstm_model):\")\n",
        "print(classification_report_lr_lstm)\n"
      ],
      "metadata": {
        "colab": {
          "base_uri": "https://localhost:8080/"
        },
        "id": "fZIyoP9QBia0",
        "outputId": "dfea9933-2dee-4818-b83d-30afbf36d4be"
      },
      "execution_count": 20,
      "outputs": [
        {
          "output_type": "stream",
          "name": "stdout",
          "text": [
            "Classification Report (lr_model):\n",
            "              precision    recall  f1-score   support\n",
            "\n",
            "           0       0.75      0.75      0.75      9944\n",
            "           1       0.76      0.76      0.76     10056\n",
            "\n",
            "    accuracy                           0.76     20000\n",
            "   macro avg       0.76      0.76      0.76     20000\n",
            "weighted avg       0.76      0.76      0.76     20000\n",
            "\n",
            "Classification Report (lr_lstm_model):\n",
            "              precision    recall  f1-score   support\n",
            "\n",
            "           0       0.75      0.75      0.75      9944\n",
            "           1       0.75      0.76      0.75     10056\n",
            "\n",
            "    accuracy                           0.75     20000\n",
            "   macro avg       0.75      0.75      0.75     20000\n",
            "weighted avg       0.75      0.75      0.75     20000\n",
            "\n"
          ]
        }
      ]
    },
    {
      "cell_type": "code",
      "source": [
        "# Saving the model\n",
        "lr_model.save('lr_model.h5')\n",
        "lr_lstm_model.save('lr_lstm_model.h5')"
      ],
      "metadata": {
        "id": "bVFdDRla54Rz"
      },
      "execution_count": 19,
      "outputs": []
    }
  ],
  "metadata": {
    "accelerator": "GPU",
    "colab": {
      "provenance": []
    },
    "kernelspec": {
      "display_name": "Python 3",
      "name": "python3"
    },
    "language_info": {
      "name": "python"
    }
  },
  "nbformat": 4,
  "nbformat_minor": 0
}